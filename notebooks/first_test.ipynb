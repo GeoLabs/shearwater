{
 "cells": [
  {
   "cell_type": "code",
   "execution_count": 1,
   "id": "572a0c7b-1375-4b41-aae3-4cf61428f95b",
   "metadata": {},
   "outputs": [
    {
     "name": "stderr",
     "output_type": "stream",
     "text": [
      "2024-03-05 11:28:57.972658: I tensorflow/core/platform/cpu_feature_guard.cc:182] This TensorFlow binary is optimized to use available CPU instructions in performance-critical operations.\n",
      "To enable the following instructions: SSE4.1 SSE4.2 AVX AVX2 FMA, in other operations, rebuild TensorFlow with the appropriate compiler flags.\n"
     ]
    }
   ],
   "source": [
    "import numpy as np\n",
    "import pandas as pd\n",
    "from birdy import WPSClient\n",
    "from keras import models"
   ]
  },
  {
   "cell_type": "code",
   "execution_count": 3,
   "id": "630ce3f7-9ab7-484d-82a2-f0c4e5a277c1",
   "metadata": {},
   "outputs": [
    {
     "name": "stdout",
     "output_type": "stream",
     "text": [
      "Help on WPSClient in module birdy.client.base:\n",
      "\n",
      "<birdy.client.base.WPSClient object>\n",
      "    A WPS for forecasting ctropical-cyclone activities.\n",
      "    \n",
      "    Processes\n",
      "    ---------\n",
      "    \n",
      "    hello\n",
      "        Just says a friendly Hello.Returns a literal string output with Hello plus the inputed name.\n",
      "    \n",
      "    cyclone\n",
      "        A process to forecast tropical cyclone activities.\n",
      "\n"
     ]
    }
   ],
   "source": [
    "url = \"http://localhost:5000/wps\"\n",
    "wps = WPSClient(url, verify=False)\n",
    "help(wps)"
   ]
  },
  {
   "cell_type": "code",
   "execution_count": 4,
   "id": "cafc00e2-76c9-403a-8a4f-8c930c5f955a",
   "metadata": {
    "tags": []
   },
   "outputs": [
    {
     "name": "stdout",
     "output_type": "stream",
     "text": [
      "<birdy.client.utils.WPSExecution object at 0x7fff5f1cbd90>\n"
     ]
    },
    {
     "data": {
      "text/plain": [
       "helloResponse(\n",
       "    output='Hello Pluto'\n",
       ")"
      ]
     },
     "execution_count": 4,
     "metadata": {},
     "output_type": "execute_result"
    }
   ],
   "source": [
    "resp = wps.hello(name=\"Pluto\")\n",
    "print(resp)\n",
    "resp.get()"
   ]
  },
  {
   "cell_type": "code",
   "execution_count": 5,
   "id": "c5419eca-ac01-43ed-b54b-861f4232b69d",
   "metadata": {},
   "outputs": [
    {
     "name": "stdout",
     "output_type": "stream",
     "text": [
      "<birdy.client.utils.WPSExecution object at 0x7fff5f23e6a0>\n"
     ]
    },
    {
     "data": {
      "text/plain": [
       "cycloneResponse(\n",
       "    output_csv='/home/b/b382633/shearwater/data/prediction_Sindian.csv'\n",
       ")"
      ]
     },
     "execution_count": 5,
     "metadata": {},
     "output_type": "execute_result"
    }
   ],
   "source": [
    "resp = wps.cyclone(start_day=\"2019-01-04\", end_day=\"2019-01-06\", area=\"Sindian\")\n",
    "print(resp)\n",
    "resp.get()"
   ]
  },
  {
   "cell_type": "code",
   "execution_count": null,
   "id": "c69328d3-9f92-4f42-a4e9-c07efa00d39c",
   "metadata": {},
   "outputs": [],
   "source": []
  }
 ],
 "metadata": {
  "kernelspec": {
   "display_name": "Python (shearwater_env)",
   "language": "python",
   "name": "shearwater"
  },
  "language_info": {
   "codemirror_mode": {
    "name": "ipython",
    "version": 3
   },
   "file_extension": ".py",
   "mimetype": "text/x-python",
   "name": "python",
   "nbconvert_exporter": "python",
   "pygments_lexer": "ipython3",
   "version": "3.9.15"
  }
 },
 "nbformat": 4,
 "nbformat_minor": 5
}
